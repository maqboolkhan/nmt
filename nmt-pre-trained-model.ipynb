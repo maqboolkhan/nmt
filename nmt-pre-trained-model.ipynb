{
 "cells": [
  {
   "cell_type": "code",
   "execution_count": 1,
   "id": "75f817cc-f6da-4e08-8a70-530e0b0bb210",
   "metadata": {},
   "outputs": [],
   "source": [
    "from simpletransformers.seq2seq import Seq2SeqModel, Seq2SeqArgs\n",
    "import pandas as pd"
   ]
  },
  {
   "cell_type": "code",
   "execution_count": 2,
   "id": "223c3c33-aca6-4ae8-9ac9-822624829afa",
   "metadata": {},
   "outputs": [],
   "source": [
    "train_en = open('datasets/Multi30k/train.en', encoding='utf-8').readlines()\n",
    "train_de = open('datasets/Multi30k/train.de', encoding='utf-8').readlines()\n",
    "\n",
    "valid_en = open('datasets/Multi30k/val.en', encoding='utf-8').readlines()\n",
    "valid_de = open('datasets/Multi30k/val.de', encoding='utf-8').readlines()\n",
    "\n",
    "test_en = open('datasets/Multi30k/test.en', encoding='utf-8').readlines()\n",
    "test_de = open('datasets/Multi30k/test.de', encoding='utf-8').readlines()"
   ]
  },
  {
   "cell_type": "code",
   "execution_count": 3,
   "id": "752a20a0-1df4-43fe-a9b8-8843ea343bbe",
   "metadata": {},
   "outputs": [],
   "source": [
    "train_data = [[en, de] for en, de in zip(train_en, train_de)]\n",
    "valid_data = [[en, de] for en, de in zip(valid_en, valid_de)]\n",
    "test_data = [[en, de] for en, de in zip(test_en, test_de)]"
   ]
  },
  {
   "cell_type": "code",
   "execution_count": 4,
   "id": "64f57054-7488-40c3-9307-fa54f852ac65",
   "metadata": {},
   "outputs": [],
   "source": [
    "train_df = pd.DataFrame(\n",
    "    train_data, columns=[\"input_text\", \"target_text\"]\n",
    ")\n",
    "\n",
    "valid_df = pd.DataFrame(\n",
    "    valid_data, columns=[\"input_text\", \"target_text\"]\n",
    ")"
   ]
  },
  {
   "cell_type": "code",
   "execution_count": 5,
   "id": "27d2de8d-19a1-4f3e-9674-85e97dc9d610",
   "metadata": {},
   "outputs": [],
   "source": [
    "model_args = Seq2SeqArgs()\n",
    "model_args.num_train_epochs = 10\n",
    "model_args.no_save = True\n",
    "model_args.evaluate_generated_text = True\n",
    "model_args.evaluate_during_training = True\n",
    "model_args.evaluate_during_training_verbose = True"
   ]
  },
  {
   "cell_type": "code",
   "execution_count": 6,
   "id": "1e334f12-74bf-4383-8a3d-46727139cd5d",
   "metadata": {},
   "outputs": [],
   "source": [
    "model = Seq2SeqModel(\n",
    "    encoder_decoder_type=\"marian\",\n",
    "    encoder_decoder_name=\"Helsinki-NLP/opus-mt-en-de\",\n",
    "    args=model_args,\n",
    "    use_cuda=False,\n",
    ")"
   ]
  },
  {
   "cell_type": "code",
   "execution_count": null,
   "id": "f8898b3b-257a-41a6-9e10-8960bbdf2bbf",
   "metadata": {},
   "outputs": [],
   "source": [
    "model.train_model(train_df, eval_data=valid_df)"
   ]
  }
 ],
 "metadata": {
  "kernelspec": {
   "display_name": "Python 3 (ipykernel)",
   "language": "python",
   "name": "python3"
  },
  "language_info": {
   "codemirror_mode": {
    "name": "ipython",
    "version": 3
   },
   "file_extension": ".py",
   "mimetype": "text/x-python",
   "name": "python",
   "nbconvert_exporter": "python",
   "pygments_lexer": "ipython3",
   "version": "3.9.5"
  }
 },
 "nbformat": 4,
 "nbformat_minor": 5
}
